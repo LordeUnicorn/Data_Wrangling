{
 "cells": [
  {
   "cell_type": "markdown",
   "metadata": {},
   "source": [
    "# Data Wrangling "
   ]
  },
  {
   "cell_type": "markdown",
   "metadata": {},
   "source": [
    "#### Overview\n",
    "#### Import modules\n",
    "#### Read CSV files\n",
    "#### Create a function that will turn values into integers and sum the totals for each personality trait\n",
    "#### Create a function that will intepret the personality trait\n",
    "#### Plot graphs based on the data\n",
    "#### Classify low risk applicants and group them into a dataframe showing their department\n",
    "#### Show the amount of applicants in each personality trait interpretation according to their department."
   ]
  },
  {
   "cell_type": "markdown",
   "metadata": {},
   "source": [
    "#### Importing required modules"
   ]
  },
  {
   "cell_type": "code",
   "execution_count": 1,
   "metadata": {},
   "outputs": [],
   "source": [
    "import pandas as pd\n",
    "import matplotlib.pyplot as plt\n",
    "import numpy as np\n",
    "from statistics import stdev\n",
    "# from . import cbook\n"
   ]
  },
  {
   "cell_type": "markdown",
   "metadata": {},
   "source": [
    "#### Reading in csv files"
   ]
  },
  {
   "cell_type": "code",
   "execution_count": 2,
   "metadata": {},
   "outputs": [
    {
     "data": {
      "text/html": [
       "<div>\n",
       "<style scoped>\n",
       "    .dataframe tbody tr th:only-of-type {\n",
       "        vertical-align: middle;\n",
       "    }\n",
       "\n",
       "    .dataframe tbody tr th {\n",
       "        vertical-align: top;\n",
       "    }\n",
       "\n",
       "    .dataframe thead th {\n",
       "        text-align: right;\n",
       "    }\n",
       "</style>\n",
       "<table border=\"1\" class=\"dataframe\">\n",
       "  <thead>\n",
       "    <tr style=\"text-align: right;\">\n",
       "      <th></th>\n",
       "      <th>ID</th>\n",
       "      <th>Section 5 of 6 [I am always prepared.]</th>\n",
       "      <th>Section 5 of 6 [I am easily disturbed.]</th>\n",
       "      <th>Section 5 of 6 [I am exacting (demanding) in my work.]</th>\n",
       "      <th>Section 5 of 6 [I am full of ideas.]</th>\n",
       "      <th>Section 5 of 6 [I am interested in people.]</th>\n",
       "      <th>Section 5 of 6 [I am not interested in abstract ideas.]</th>\n",
       "      <th>Section 5 of 6 [I am not interested in other people's problems.]</th>\n",
       "      <th>Section 5 of 6 [I am not really interested in others.]</th>\n",
       "      <th>Section 5 of 6 [I am quick to understand things.]</th>\n",
       "      <th>...</th>\n",
       "      <th>Unnamed: 60</th>\n",
       "      <th>Unnamed: 61</th>\n",
       "      <th>Unnamed: 62</th>\n",
       "      <th>Unnamed: 63</th>\n",
       "      <th>Unnamed: 64</th>\n",
       "      <th>Unnamed: 65</th>\n",
       "      <th>Unnamed: 66</th>\n",
       "      <th>Unnamed: 67</th>\n",
       "      <th>Unnamed: 68</th>\n",
       "      <th>IPIP_HIGH_RISK</th>\n",
       "    </tr>\n",
       "  </thead>\n",
       "  <tbody>\n",
       "    <tr>\n",
       "      <th>0</th>\n",
       "      <td>0</td>\n",
       "      <td>(3, 5)</td>\n",
       "      <td>(4, 5)</td>\n",
       "      <td>(3, 5)</td>\n",
       "      <td>(5, 5)</td>\n",
       "      <td>(2, 3)</td>\n",
       "      <td>(5, 3)</td>\n",
       "      <td>(2, 3)</td>\n",
       "      <td>(2, 5)</td>\n",
       "      <td>(5, 5)</td>\n",
       "      <td>...</td>\n",
       "      <td>NaN</td>\n",
       "      <td>NaN</td>\n",
       "      <td>NaN</td>\n",
       "      <td>NaN</td>\n",
       "      <td>NaN</td>\n",
       "      <td>NaN</td>\n",
       "      <td>NaN</td>\n",
       "      <td>NaN</td>\n",
       "      <td>NaN</td>\n",
       "      <td>NaN</td>\n",
       "    </tr>\n",
       "    <tr>\n",
       "      <th>1</th>\n",
       "      <td>1</td>\n",
       "      <td>(3, 5)</td>\n",
       "      <td>(4, 5)</td>\n",
       "      <td>(3, 5)</td>\n",
       "      <td>(5, 5)</td>\n",
       "      <td>(2, 5)</td>\n",
       "      <td>(5, 3)</td>\n",
       "      <td>(2, 5)</td>\n",
       "      <td>(2, 5)</td>\n",
       "      <td>(5, 5)</td>\n",
       "      <td>...</td>\n",
       "      <td>NaN</td>\n",
       "      <td>NaN</td>\n",
       "      <td>NaN</td>\n",
       "      <td>NaN</td>\n",
       "      <td>NaN</td>\n",
       "      <td>NaN</td>\n",
       "      <td>NaN</td>\n",
       "      <td>NaN</td>\n",
       "      <td>NaN</td>\n",
       "      <td>NaN</td>\n",
       "    </tr>\n",
       "    <tr>\n",
       "      <th>2</th>\n",
       "      <td>2</td>\n",
       "      <td>(3, 5)</td>\n",
       "      <td>(4, 3)</td>\n",
       "      <td>(3, 3)</td>\n",
       "      <td>(5, 5)</td>\n",
       "      <td>(2, 5)</td>\n",
       "      <td>(5, 5)</td>\n",
       "      <td>(2, 5)</td>\n",
       "      <td>(2, 5)</td>\n",
       "      <td>(5, 5)</td>\n",
       "      <td>...</td>\n",
       "      <td>NaN</td>\n",
       "      <td>NaN</td>\n",
       "      <td>NaN</td>\n",
       "      <td>NaN</td>\n",
       "      <td>NaN</td>\n",
       "      <td>NaN</td>\n",
       "      <td>NaN</td>\n",
       "      <td>NaN</td>\n",
       "      <td>NaN</td>\n",
       "      <td>NaN</td>\n",
       "    </tr>\n",
       "    <tr>\n",
       "      <th>3</th>\n",
       "      <td>3</td>\n",
       "      <td>(3, 5)</td>\n",
       "      <td>(4, 5)</td>\n",
       "      <td>(3, 3)</td>\n",
       "      <td>(5, 5)</td>\n",
       "      <td>(2, 5)</td>\n",
       "      <td>(5, 3)</td>\n",
       "      <td>(2, 3)</td>\n",
       "      <td>(2, 3)</td>\n",
       "      <td>(5, 3)</td>\n",
       "      <td>...</td>\n",
       "      <td>NaN</td>\n",
       "      <td>NaN</td>\n",
       "      <td>NaN</td>\n",
       "      <td>NaN</td>\n",
       "      <td>NaN</td>\n",
       "      <td>NaN</td>\n",
       "      <td>NaN</td>\n",
       "      <td>NaN</td>\n",
       "      <td>NaN</td>\n",
       "      <td>NaN</td>\n",
       "    </tr>\n",
       "    <tr>\n",
       "      <th>4</th>\n",
       "      <td>4</td>\n",
       "      <td>(3, 3)</td>\n",
       "      <td>(4, 5)</td>\n",
       "      <td>(3, 3)</td>\n",
       "      <td>(5, 3)</td>\n",
       "      <td>(2, 3)</td>\n",
       "      <td>(5, 3)</td>\n",
       "      <td>(2, 3)</td>\n",
       "      <td>(2, 3)</td>\n",
       "      <td>(5, 5)</td>\n",
       "      <td>...</td>\n",
       "      <td>NaN</td>\n",
       "      <td>NaN</td>\n",
       "      <td>NaN</td>\n",
       "      <td>NaN</td>\n",
       "      <td>NaN</td>\n",
       "      <td>NaN</td>\n",
       "      <td>NaN</td>\n",
       "      <td>NaN</td>\n",
       "      <td>NaN</td>\n",
       "      <td>NaN</td>\n",
       "    </tr>\n",
       "  </tbody>\n",
       "</table>\n",
       "<p>5 rows × 70 columns</p>\n",
       "</div>"
      ],
      "text/plain": [
       "   ID Section 5 of 6 [I am always prepared.]  \\\n",
       "0   0                                 (3, 5)   \n",
       "1   1                                 (3, 5)   \n",
       "2   2                                 (3, 5)   \n",
       "3   3                                 (3, 5)   \n",
       "4   4                                 (3, 3)   \n",
       "\n",
       "  Section 5 of 6 [I am easily disturbed.]  \\\n",
       "0                                  (4, 5)   \n",
       "1                                  (4, 5)   \n",
       "2                                  (4, 3)   \n",
       "3                                  (4, 5)   \n",
       "4                                  (4, 5)   \n",
       "\n",
       "  Section 5 of 6 [I am exacting (demanding) in my work.]  \\\n",
       "0                                             (3, 5)       \n",
       "1                                             (3, 5)       \n",
       "2                                             (3, 3)       \n",
       "3                                             (3, 3)       \n",
       "4                                             (3, 3)       \n",
       "\n",
       "  Section 5 of 6 [I am full of ideas.]  \\\n",
       "0                               (5, 5)   \n",
       "1                               (5, 5)   \n",
       "2                               (5, 5)   \n",
       "3                               (5, 5)   \n",
       "4                               (5, 3)   \n",
       "\n",
       "  Section 5 of 6 [I am interested in people.]  \\\n",
       "0                                      (2, 3)   \n",
       "1                                      (2, 5)   \n",
       "2                                      (2, 5)   \n",
       "3                                      (2, 5)   \n",
       "4                                      (2, 3)   \n",
       "\n",
       "  Section 5 of 6 [I am not interested in abstract ideas.]  \\\n",
       "0                                             (5, 3)        \n",
       "1                                             (5, 3)        \n",
       "2                                             (5, 5)        \n",
       "3                                             (5, 3)        \n",
       "4                                             (5, 3)        \n",
       "\n",
       "  Section 5 of 6 [I am not interested in other people's problems.]  \\\n",
       "0                                             (2, 3)                 \n",
       "1                                             (2, 5)                 \n",
       "2                                             (2, 5)                 \n",
       "3                                             (2, 3)                 \n",
       "4                                             (2, 3)                 \n",
       "\n",
       "  Section 5 of 6 [I am not really interested in others.]  \\\n",
       "0                                             (2, 5)       \n",
       "1                                             (2, 5)       \n",
       "2                                             (2, 5)       \n",
       "3                                             (2, 3)       \n",
       "4                                             (2, 3)       \n",
       "\n",
       "  Section 5 of 6 [I am quick to understand things.]  ... Unnamed: 60  \\\n",
       "0                                            (5, 5)  ...         NaN   \n",
       "1                                            (5, 5)  ...         NaN   \n",
       "2                                            (5, 5)  ...         NaN   \n",
       "3                                            (5, 3)  ...         NaN   \n",
       "4                                            (5, 5)  ...         NaN   \n",
       "\n",
       "  Unnamed: 61 Unnamed: 62 Unnamed: 63 Unnamed: 64 Unnamed: 65 Unnamed: 66  \\\n",
       "0         NaN         NaN         NaN         NaN         NaN         NaN   \n",
       "1         NaN         NaN         NaN         NaN         NaN         NaN   \n",
       "2         NaN         NaN         NaN         NaN         NaN         NaN   \n",
       "3         NaN         NaN         NaN         NaN         NaN         NaN   \n",
       "4         NaN         NaN         NaN         NaN         NaN         NaN   \n",
       "\n",
       "  Unnamed: 67 Unnamed: 68 IPIP_HIGH_RISK  \n",
       "0         NaN         NaN            NaN  \n",
       "1         NaN         NaN            NaN  \n",
       "2         NaN         NaN            NaN  \n",
       "3         NaN         NaN            NaN  \n",
       "4         NaN         NaN            NaN  \n",
       "\n",
       "[5 rows x 70 columns]"
      ]
     },
     "execution_count": 2,
     "metadata": {},
     "output_type": "execute_result"
    }
   ],
   "source": [
    "df = pd.read_csv('personality_scores.csv', delimiter=';')\n",
    "df1 = pd.read_csv('personality_scores.csv', header=None, skiprows=[0], delimiter=';')\n",
    "\n",
    "df.head()"
   ]
  },
  {
   "cell_type": "code",
   "execution_count": 3,
   "metadata": {},
   "outputs": [
    {
     "name": "stdout",
     "output_type": "stream",
     "text": [
      "<class 'pandas.core.frame.DataFrame'>\n",
      "RangeIndex: 1555 entries, 0 to 1554\n",
      "Data columns (total 70 columns):\n",
      "ID                                                                          1555 non-null int64\n",
      "Section 5 of 6 [I am always prepared.]                                      1555 non-null object\n",
      "Section 5 of 6 [I am easily disturbed.]                                     1555 non-null object\n",
      "Section 5 of 6 [I am exacting (demanding) in my work.]                      1555 non-null object\n",
      "Section 5 of 6 [I am full of ideas.]                                        1555 non-null object\n",
      "Section 5 of 6 [I am interested in people.]                                 1555 non-null object\n",
      "Section 5 of 6 [I am not interested in abstract ideas.]                     1555 non-null object\n",
      "Section 5 of 6 [I am not interested in other people's problems.]            1555 non-null object\n",
      "Section 5 of 6 [I am not really interested in others.]                      1555 non-null object\n",
      "Section 5 of 6 [I am quick to understand things.]                           1555 non-null object\n",
      "Section 5 of 6 [I am quiet around strangers.]                               1555 non-null object\n",
      "Section 5 of 6 [I am relaxed most of the time.]                             1555 non-null object\n",
      "Section 5 of 6 [I am the life of the party.]                                1555 non-null object\n",
      "Section 5 of 6 [I change my mood a lot.]                                    1555 non-null object\n",
      "Section 5 of 6 [I do not have a good imagination.]                          1555 non-null object\n",
      "Section 5 of 6 [I don't like to draw attention to myself.]                  1555 non-null object\n",
      "Section 5 of 6 [I don't mind being the center of attention.]                1555 non-null object\n",
      "Section 5 of 6 [I don't talk a lot.]                                        1555 non-null object\n",
      "Section 5 of 6 [I feel comfortable around people.]                          1555 non-null object\n",
      "Section 5 of 6 [I feel little concern for others.]                          1555 non-null object\n",
      "Section 5 of 6 [I feel others' emotions.]                                   1555 non-null object\n",
      "Section 5 of 6 [I follow a schedule.]                                       1555 non-null object\n",
      "Section 5 of 6 [I get chores done right away.]                              1555 non-null object\n",
      "Section 5 of 6 [I get irritated easily.]                                    1555 non-null object\n",
      "Section 5 of 6 [I get stressed out easily.]                                 1555 non-null object\n",
      "Section 5 of 6 [I get upset easily.]                                        1555 non-null object\n",
      "Section 5 of 6 [I have a rich vocabulary.]                                  1555 non-null object\n",
      "Section 5 of 6 [I have a soft (kind) heart.]                                1555 non-null object\n",
      "Section 5 of 6 [I have a vivid imagination.]                                1555 non-null object\n",
      "Section 5 of 6 [I have difficulty understanding abstract ideas.]            1555 non-null object\n",
      "Section 5 of 6 [I have excellent ideas.]                                    1555 non-null object\n",
      "Section 5 of 6 [I have frequent mood swings.]                               1555 non-null object\n",
      "Section 5 of 6 [I have little to say.]                                      1555 non-null object\n",
      "Section 5 of 6 [I insult people.]                                           1555 non-null object\n",
      "Section 5 of 6 [I keep in the background.]                                  1555 non-null object\n",
      "Section 5 of 6 [I leave my belongings lying around.]                        1555 non-null object\n",
      "Section 5 of 6 [I like order.]                                              1555 non-null object\n",
      "Section 5 of 6 [I make a mess of things.]                                   1555 non-null object\n",
      "Section 5 of 6 [I make people feel at ease.]                                1555 non-null object\n",
      "Section 5 of 6 [I neglect my duties.]                                       1555 non-null object\n",
      "Section 5 of 6 [I often feel blue (down).]                                  1555 non-null object\n",
      "Section 5 of 6 [I often forget to put things back in their proper place]    1555 non-null object\n",
      "Section 5 of 6 [I pay attention to details.]                                1555 non-null object\n",
      "Section 5 of 6 [I seldom feel blue (down).]                                 1555 non-null object\n",
      "Section 5 of 6 [I spend time reflecting on things.]                         1555 non-null object\n",
      "Section 5 of 6 [I start conversations.]                                     1555 non-null object\n",
      "Section 5 of 6 [I sympathize with others' feelings.]                        1555 non-null object\n",
      "Section 5 of 6 [I take time out for others.]                                1555 non-null object\n",
      "Section 5 of 6 [I talk to a lot of different people at parties.]            1555 non-null object\n",
      "Section 5 of 6 [I use difficult words.]                                     1555 non-null object\n",
      "Section 5 of 6 [I worry about things.]                                      1555 non-null object\n",
      "Unnamed: 51                                                                 0 non-null float64\n",
      "Unnamed: 52                                                                 0 non-null float64\n",
      "Unnamed: 53                                                                 0 non-null float64\n",
      "Unnamed: 54                                                                 0 non-null float64\n",
      "Unnamed: 55                                                                 0 non-null float64\n",
      "Unnamed: 56                                                                 0 non-null float64\n",
      "Unnamed: 57                                                                 0 non-null float64\n",
      "Unnamed: 58                                                                 0 non-null float64\n",
      "Unnamed: 59                                                                 0 non-null float64\n",
      "Unnamed: 60                                                                 0 non-null float64\n",
      "Unnamed: 61                                                                 0 non-null float64\n",
      "Unnamed: 62                                                                 0 non-null float64\n",
      "Unnamed: 63                                                                 0 non-null float64\n",
      "Unnamed: 64                                                                 0 non-null float64\n",
      "Unnamed: 65                                                                 0 non-null float64\n",
      "Unnamed: 66                                                                 0 non-null float64\n",
      "Unnamed: 67                                                                 0 non-null float64\n",
      "Unnamed: 68                                                                 0 non-null float64\n",
      "IPIP_HIGH_RISK                                                              0 non-null float64\n",
      "dtypes: float64(19), int64(1), object(50)\n",
      "memory usage: 850.5+ KB\n"
     ]
    }
   ],
   "source": [
    "df.info()"
   ]
  },
  {
   "cell_type": "code",
   "execution_count": 4,
   "metadata": {},
   "outputs": [],
   "source": [
    "df_copy = df.copy()"
   ]
  },
  {
   "cell_type": "code",
   "execution_count": 5,
   "metadata": {},
   "outputs": [],
   "source": [
    "df_copy = df_copy.sort_index()"
   ]
  },
  {
   "cell_type": "markdown",
   "metadata": {},
   "source": [
    "#### Dropping null values"
   ]
  },
  {
   "cell_type": "code",
   "execution_count": 6,
   "metadata": {},
   "outputs": [],
   "source": [
    "df1 = df_copy.dropna(axis='columns')"
   ]
  },
  {
   "cell_type": "code",
   "execution_count": 7,
   "metadata": {},
   "outputs": [
    {
     "data": {
      "text/html": [
       "<div>\n",
       "<style scoped>\n",
       "    .dataframe tbody tr th:only-of-type {\n",
       "        vertical-align: middle;\n",
       "    }\n",
       "\n",
       "    .dataframe tbody tr th {\n",
       "        vertical-align: top;\n",
       "    }\n",
       "\n",
       "    .dataframe thead th {\n",
       "        text-align: right;\n",
       "    }\n",
       "</style>\n",
       "<table border=\"1\" class=\"dataframe\">\n",
       "  <thead>\n",
       "    <tr style=\"text-align: right;\">\n",
       "      <th></th>\n",
       "      <th>Section 5 of 6 [I am always prepared.]</th>\n",
       "      <th>Section 5 of 6 [I am easily disturbed.]</th>\n",
       "      <th>Section 5 of 6 [I am exacting (demanding) in my work.]</th>\n",
       "      <th>Section 5 of 6 [I am full of ideas.]</th>\n",
       "      <th>Section 5 of 6 [I am interested in people.]</th>\n",
       "      <th>Section 5 of 6 [I am not interested in abstract ideas.]</th>\n",
       "      <th>Section 5 of 6 [I am not interested in other people's problems.]</th>\n",
       "      <th>Section 5 of 6 [I am not really interested in others.]</th>\n",
       "      <th>Section 5 of 6 [I am quick to understand things.]</th>\n",
       "      <th>Section 5 of 6 [I am quiet around strangers.]</th>\n",
       "      <th>...</th>\n",
       "      <th>Section 5 of 6 [I often forget to put things back in their proper place]</th>\n",
       "      <th>Section 5 of 6 [I pay attention to details.]</th>\n",
       "      <th>Section 5 of 6 [I seldom feel blue (down).]</th>\n",
       "      <th>Section 5 of 6 [I spend time reflecting on things.]</th>\n",
       "      <th>Section 5 of 6 [I start conversations.]</th>\n",
       "      <th>Section 5 of 6 [I sympathize with others' feelings.]</th>\n",
       "      <th>Section 5 of 6 [I take time out for others.]</th>\n",
       "      <th>Section 5 of 6 [I talk to a lot of different people at parties.]</th>\n",
       "      <th>Section 5 of 6 [I use difficult words.]</th>\n",
       "      <th>Section 5 of 6 [I worry about things.]</th>\n",
       "    </tr>\n",
       "    <tr>\n",
       "      <th>ID</th>\n",
       "      <th></th>\n",
       "      <th></th>\n",
       "      <th></th>\n",
       "      <th></th>\n",
       "      <th></th>\n",
       "      <th></th>\n",
       "      <th></th>\n",
       "      <th></th>\n",
       "      <th></th>\n",
       "      <th></th>\n",
       "      <th></th>\n",
       "      <th></th>\n",
       "      <th></th>\n",
       "      <th></th>\n",
       "      <th></th>\n",
       "      <th></th>\n",
       "      <th></th>\n",
       "      <th></th>\n",
       "      <th></th>\n",
       "      <th></th>\n",
       "      <th></th>\n",
       "    </tr>\n",
       "  </thead>\n",
       "  <tbody>\n",
       "    <tr>\n",
       "      <th>0</th>\n",
       "      <td>(3, 5)</td>\n",
       "      <td>(4, 5)</td>\n",
       "      <td>(3, 5)</td>\n",
       "      <td>(5, 5)</td>\n",
       "      <td>(2, 3)</td>\n",
       "      <td>(5, 3)</td>\n",
       "      <td>(2, 3)</td>\n",
       "      <td>(2, 5)</td>\n",
       "      <td>(5, 5)</td>\n",
       "      <td>(1, 3)</td>\n",
       "      <td>...</td>\n",
       "      <td>(3, 5)</td>\n",
       "      <td>(3, 5)</td>\n",
       "      <td>(4, 3)</td>\n",
       "      <td>(5, 5)</td>\n",
       "      <td>(1, 3)</td>\n",
       "      <td>(2, 5)</td>\n",
       "      <td>(2, 5)</td>\n",
       "      <td>(1, 3)</td>\n",
       "      <td>(5, 1)</td>\n",
       "      <td>(4, 3)</td>\n",
       "    </tr>\n",
       "    <tr>\n",
       "      <th>1</th>\n",
       "      <td>(3, 5)</td>\n",
       "      <td>(4, 5)</td>\n",
       "      <td>(3, 5)</td>\n",
       "      <td>(5, 5)</td>\n",
       "      <td>(2, 5)</td>\n",
       "      <td>(5, 3)</td>\n",
       "      <td>(2, 5)</td>\n",
       "      <td>(2, 5)</td>\n",
       "      <td>(5, 5)</td>\n",
       "      <td>(1, 3)</td>\n",
       "      <td>...</td>\n",
       "      <td>(3, 5)</td>\n",
       "      <td>(3, 1)</td>\n",
       "      <td>(4, 1)</td>\n",
       "      <td>(5, 5)</td>\n",
       "      <td>(1, 5)</td>\n",
       "      <td>(2, 5)</td>\n",
       "      <td>(2, 5)</td>\n",
       "      <td>(1, 5)</td>\n",
       "      <td>(5, 3)</td>\n",
       "      <td>(4, 3)</td>\n",
       "    </tr>\n",
       "    <tr>\n",
       "      <th>2</th>\n",
       "      <td>(3, 5)</td>\n",
       "      <td>(4, 3)</td>\n",
       "      <td>(3, 3)</td>\n",
       "      <td>(5, 5)</td>\n",
       "      <td>(2, 5)</td>\n",
       "      <td>(5, 5)</td>\n",
       "      <td>(2, 5)</td>\n",
       "      <td>(2, 5)</td>\n",
       "      <td>(5, 5)</td>\n",
       "      <td>(1, 1)</td>\n",
       "      <td>...</td>\n",
       "      <td>(3, 5)</td>\n",
       "      <td>(3, 5)</td>\n",
       "      <td>(4, 1)</td>\n",
       "      <td>(5, 3)</td>\n",
       "      <td>(1, 3)</td>\n",
       "      <td>(2, 5)</td>\n",
       "      <td>(2, 5)</td>\n",
       "      <td>(1, 3)</td>\n",
       "      <td>(5, 1)</td>\n",
       "      <td>(4, 3)</td>\n",
       "    </tr>\n",
       "    <tr>\n",
       "      <th>3</th>\n",
       "      <td>(3, 5)</td>\n",
       "      <td>(4, 5)</td>\n",
       "      <td>(3, 3)</td>\n",
       "      <td>(5, 5)</td>\n",
       "      <td>(2, 5)</td>\n",
       "      <td>(5, 3)</td>\n",
       "      <td>(2, 3)</td>\n",
       "      <td>(2, 3)</td>\n",
       "      <td>(5, 3)</td>\n",
       "      <td>(1, 3)</td>\n",
       "      <td>...</td>\n",
       "      <td>(3, 1)</td>\n",
       "      <td>(3, 5)</td>\n",
       "      <td>(4, 1)</td>\n",
       "      <td>(5, 5)</td>\n",
       "      <td>(1, 5)</td>\n",
       "      <td>(2, 5)</td>\n",
       "      <td>(2, 5)</td>\n",
       "      <td>(1, 5)</td>\n",
       "      <td>(5, 1)</td>\n",
       "      <td>(4, 1)</td>\n",
       "    </tr>\n",
       "    <tr>\n",
       "      <th>4</th>\n",
       "      <td>(3, 3)</td>\n",
       "      <td>(4, 5)</td>\n",
       "      <td>(3, 3)</td>\n",
       "      <td>(5, 3)</td>\n",
       "      <td>(2, 3)</td>\n",
       "      <td>(5, 3)</td>\n",
       "      <td>(2, 3)</td>\n",
       "      <td>(2, 3)</td>\n",
       "      <td>(5, 5)</td>\n",
       "      <td>(1, 1)</td>\n",
       "      <td>...</td>\n",
       "      <td>(3, 5)</td>\n",
       "      <td>(3, 5)</td>\n",
       "      <td>(4, 5)</td>\n",
       "      <td>(5, 5)</td>\n",
       "      <td>(1, 3)</td>\n",
       "      <td>(2, 3)</td>\n",
       "      <td>(2, 5)</td>\n",
       "      <td>(1, 3)</td>\n",
       "      <td>(5, 1)</td>\n",
       "      <td>(4, 3)</td>\n",
       "    </tr>\n",
       "  </tbody>\n",
       "</table>\n",
       "<p>5 rows × 50 columns</p>\n",
       "</div>"
      ],
      "text/plain": [
       "   Section 5 of 6 [I am always prepared.]  \\\n",
       "ID                                          \n",
       "0                                  (3, 5)   \n",
       "1                                  (3, 5)   \n",
       "2                                  (3, 5)   \n",
       "3                                  (3, 5)   \n",
       "4                                  (3, 3)   \n",
       "\n",
       "   Section 5 of 6 [I am easily disturbed.]  \\\n",
       "ID                                           \n",
       "0                                   (4, 5)   \n",
       "1                                   (4, 5)   \n",
       "2                                   (4, 3)   \n",
       "3                                   (4, 5)   \n",
       "4                                   (4, 5)   \n",
       "\n",
       "   Section 5 of 6 [I am exacting (demanding) in my work.]  \\\n",
       "ID                                                          \n",
       "0                                              (3, 5)       \n",
       "1                                              (3, 5)       \n",
       "2                                              (3, 3)       \n",
       "3                                              (3, 3)       \n",
       "4                                              (3, 3)       \n",
       "\n",
       "   Section 5 of 6 [I am full of ideas.]  \\\n",
       "ID                                        \n",
       "0                                (5, 5)   \n",
       "1                                (5, 5)   \n",
       "2                                (5, 5)   \n",
       "3                                (5, 5)   \n",
       "4                                (5, 3)   \n",
       "\n",
       "   Section 5 of 6 [I am interested in people.]  \\\n",
       "ID                                               \n",
       "0                                       (2, 3)   \n",
       "1                                       (2, 5)   \n",
       "2                                       (2, 5)   \n",
       "3                                       (2, 5)   \n",
       "4                                       (2, 3)   \n",
       "\n",
       "   Section 5 of 6 [I am not interested in abstract ideas.]  \\\n",
       "ID                                                           \n",
       "0                                              (5, 3)        \n",
       "1                                              (5, 3)        \n",
       "2                                              (5, 5)        \n",
       "3                                              (5, 3)        \n",
       "4                                              (5, 3)        \n",
       "\n",
       "   Section 5 of 6 [I am not interested in other people's problems.]  \\\n",
       "ID                                                                    \n",
       "0                                              (2, 3)                 \n",
       "1                                              (2, 5)                 \n",
       "2                                              (2, 5)                 \n",
       "3                                              (2, 3)                 \n",
       "4                                              (2, 3)                 \n",
       "\n",
       "   Section 5 of 6 [I am not really interested in others.]  \\\n",
       "ID                                                          \n",
       "0                                              (2, 5)       \n",
       "1                                              (2, 5)       \n",
       "2                                              (2, 5)       \n",
       "3                                              (2, 3)       \n",
       "4                                              (2, 3)       \n",
       "\n",
       "   Section 5 of 6 [I am quick to understand things.]  \\\n",
       "ID                                                     \n",
       "0                                             (5, 5)   \n",
       "1                                             (5, 5)   \n",
       "2                                             (5, 5)   \n",
       "3                                             (5, 3)   \n",
       "4                                             (5, 5)   \n",
       "\n",
       "   Section 5 of 6 [I am quiet around strangers.]  ...  \\\n",
       "ID                                                ...   \n",
       "0                                         (1, 3)  ...   \n",
       "1                                         (1, 3)  ...   \n",
       "2                                         (1, 1)  ...   \n",
       "3                                         (1, 3)  ...   \n",
       "4                                         (1, 1)  ...   \n",
       "\n",
       "   Section 5 of 6 [I often forget to put things back in their proper place]  \\\n",
       "ID                                                                            \n",
       "0                                              (3, 5)                         \n",
       "1                                              (3, 5)                         \n",
       "2                                              (3, 5)                         \n",
       "3                                              (3, 1)                         \n",
       "4                                              (3, 5)                         \n",
       "\n",
       "   Section 5 of 6 [I pay attention to details.]  \\\n",
       "ID                                                \n",
       "0                                        (3, 5)   \n",
       "1                                        (3, 1)   \n",
       "2                                        (3, 5)   \n",
       "3                                        (3, 5)   \n",
       "4                                        (3, 5)   \n",
       "\n",
       "   Section 5 of 6 [I seldom feel blue (down).]  \\\n",
       "ID                                               \n",
       "0                                       (4, 3)   \n",
       "1                                       (4, 1)   \n",
       "2                                       (4, 1)   \n",
       "3                                       (4, 1)   \n",
       "4                                       (4, 5)   \n",
       "\n",
       "   Section 5 of 6 [I spend time reflecting on things.]  \\\n",
       "ID                                                       \n",
       "0                                              (5, 5)    \n",
       "1                                              (5, 5)    \n",
       "2                                              (5, 3)    \n",
       "3                                              (5, 5)    \n",
       "4                                              (5, 5)    \n",
       "\n",
       "   Section 5 of 6 [I start conversations.]  \\\n",
       "ID                                           \n",
       "0                                   (1, 3)   \n",
       "1                                   (1, 5)   \n",
       "2                                   (1, 3)   \n",
       "3                                   (1, 5)   \n",
       "4                                   (1, 3)   \n",
       "\n",
       "   Section 5 of 6 [I sympathize with others' feelings.]  \\\n",
       "ID                                                        \n",
       "0                                              (2, 5)     \n",
       "1                                              (2, 5)     \n",
       "2                                              (2, 5)     \n",
       "3                                              (2, 5)     \n",
       "4                                              (2, 3)     \n",
       "\n",
       "   Section 5 of 6 [I take time out for others.]  \\\n",
       "ID                                                \n",
       "0                                        (2, 5)   \n",
       "1                                        (2, 5)   \n",
       "2                                        (2, 5)   \n",
       "3                                        (2, 5)   \n",
       "4                                        (2, 5)   \n",
       "\n",
       "   Section 5 of 6 [I talk to a lot of different people at parties.]  \\\n",
       "ID                                                                    \n",
       "0                                              (1, 3)                 \n",
       "1                                              (1, 5)                 \n",
       "2                                              (1, 3)                 \n",
       "3                                              (1, 5)                 \n",
       "4                                              (1, 3)                 \n",
       "\n",
       "   Section 5 of 6 [I use difficult words.]  \\\n",
       "ID                                           \n",
       "0                                   (5, 1)   \n",
       "1                                   (5, 3)   \n",
       "2                                   (5, 1)   \n",
       "3                                   (5, 1)   \n",
       "4                                   (5, 1)   \n",
       "\n",
       "   Section 5 of 6 [I worry about things.]  \n",
       "ID                                         \n",
       "0                                  (4, 3)  \n",
       "1                                  (4, 3)  \n",
       "2                                  (4, 3)  \n",
       "3                                  (4, 1)  \n",
       "4                                  (4, 3)  \n",
       "\n",
       "[5 rows x 50 columns]"
      ]
     },
     "execution_count": 7,
     "metadata": {},
     "output_type": "execute_result"
    }
   ],
   "source": [
    "df1.set_index(keys='ID', inplace=True)\n",
    "df1.head()"
   ]
  },
  {
   "cell_type": "markdown",
   "metadata": {},
   "source": [
    "#### Creating a function that will count subscale totals"
   ]
  },
  {
   "cell_type": "code",
   "execution_count": 8,
   "metadata": {},
   "outputs": [],
   "source": [
    "def string_2_tuple(row):\n",
    "    from ast import literal_eval \n",
    "    for i in row:\n",
    "        return literal_eval(i)\n",
    "    keys = set(k for k, _ in ds)\n",
    "\n",
    "tuple_df = df1.apply(string_2_tuple)\n",
    "tuple_df.head()\n",
    "df_tuple = pd.DataFrame(tuple_df)"
   ]
  },
  {
   "cell_type": "code",
   "execution_count": 9,
   "metadata": {},
   "outputs": [
    {
     "name": "stdout",
     "output_type": "stream",
     "text": [
      "[(1, 30), (2, 40), (3, 48), (4, 36), (5, 42)]\n"
     ]
    }
   ],
   "source": [
    "from collections import defaultdict \n",
    "\n",
    "output = defaultdict(int) \n",
    "  \n",
    "for k, v in tuple_df: \n",
    "    output[k] += v \n",
    "  \n",
    "# Printing output \n",
    "print(list(output.items())) "
   ]
  },
  {
   "cell_type": "code",
   "execution_count": 10,
   "metadata": {},
   "outputs": [
    {
     "data": {
      "text/html": [
       "<div>\n",
       "<style scoped>\n",
       "    .dataframe tbody tr th:only-of-type {\n",
       "        vertical-align: middle;\n",
       "    }\n",
       "\n",
       "    .dataframe tbody tr th {\n",
       "        vertical-align: top;\n",
       "    }\n",
       "\n",
       "    .dataframe thead th {\n",
       "        text-align: right;\n",
       "    }\n",
       "</style>\n",
       "<table border=\"1\" class=\"dataframe\">\n",
       "  <thead>\n",
       "    <tr style=\"text-align: right;\">\n",
       "      <th></th>\n",
       "      <th>Extraversion</th>\n",
       "      <th>Agreeableness</th>\n",
       "      <th>Openness to New Experiences</th>\n",
       "      <th>Emotional Stability</th>\n",
       "      <th>Conscientiousness</th>\n",
       "    </tr>\n",
       "  </thead>\n",
       "  <tbody>\n",
       "    <tr>\n",
       "      <th>0</th>\n",
       "      <td>30</td>\n",
       "      <td>40</td>\n",
       "      <td>42</td>\n",
       "      <td>36</td>\n",
       "      <td>48</td>\n",
       "    </tr>\n",
       "    <tr>\n",
       "      <th>1</th>\n",
       "      <td>42</td>\n",
       "      <td>46</td>\n",
       "      <td>42</td>\n",
       "      <td>40</td>\n",
       "      <td>46</td>\n",
       "    </tr>\n",
       "    <tr>\n",
       "      <th>2</th>\n",
       "      <td>28</td>\n",
       "      <td>40</td>\n",
       "      <td>42</td>\n",
       "      <td>38</td>\n",
       "      <td>40</td>\n",
       "    </tr>\n",
       "    <tr>\n",
       "      <th>3</th>\n",
       "      <td>30</td>\n",
       "      <td>38</td>\n",
       "      <td>38</td>\n",
       "      <td>40</td>\n",
       "      <td>38</td>\n",
       "    </tr>\n",
       "    <tr>\n",
       "      <th>4</th>\n",
       "      <td>28</td>\n",
       "      <td>34</td>\n",
       "      <td>36</td>\n",
       "      <td>38</td>\n",
       "      <td>46</td>\n",
       "    </tr>\n",
       "    <tr>\n",
       "      <th>5</th>\n",
       "      <td>48</td>\n",
       "      <td>46</td>\n",
       "      <td>36</td>\n",
       "      <td>46</td>\n",
       "      <td>42</td>\n",
       "    </tr>\n",
       "    <tr>\n",
       "      <th>6</th>\n",
       "      <td>38</td>\n",
       "      <td>44</td>\n",
       "      <td>42</td>\n",
       "      <td>36</td>\n",
       "      <td>50</td>\n",
       "    </tr>\n",
       "    <tr>\n",
       "      <th>7</th>\n",
       "      <td>30</td>\n",
       "      <td>48</td>\n",
       "      <td>42</td>\n",
       "      <td>42</td>\n",
       "      <td>48</td>\n",
       "    </tr>\n",
       "    <tr>\n",
       "      <th>8</th>\n",
       "      <td>40</td>\n",
       "      <td>46</td>\n",
       "      <td>48</td>\n",
       "      <td>44</td>\n",
       "      <td>48</td>\n",
       "    </tr>\n",
       "    <tr>\n",
       "      <th>9</th>\n",
       "      <td>32</td>\n",
       "      <td>44</td>\n",
       "      <td>42</td>\n",
       "      <td>18</td>\n",
       "      <td>36</td>\n",
       "    </tr>\n",
       "  </tbody>\n",
       "</table>\n",
       "</div>"
      ],
      "text/plain": [
       "   Extraversion  Agreeableness  Openness to New Experiences  \\\n",
       "0            30             40                           42   \n",
       "1            42             46                           42   \n",
       "2            28             40                           42   \n",
       "3            30             38                           38   \n",
       "4            28             34                           36   \n",
       "5            48             46                           36   \n",
       "6            38             44                           42   \n",
       "7            30             48                           42   \n",
       "8            40             46                           48   \n",
       "9            32             44                           42   \n",
       "\n",
       "   Emotional Stability  Conscientiousness  \n",
       "0                   36                 48  \n",
       "1                   40                 46  \n",
       "2                   38                 40  \n",
       "3                   40                 38  \n",
       "4                   38                 46  \n",
       "5                   46                 42  \n",
       "6                   36                 50  \n",
       "7                   42                 48  \n",
       "8                   44                 48  \n",
       "9                   18                 36  "
      ]
     },
     "execution_count": 10,
     "metadata": {},
     "output_type": "execute_result"
    }
   ],
   "source": [
    "a_list = []\n",
    "ex_list = []\n",
    "ne_list = []\n",
    "es_list = []\n",
    "c_list = []\n",
    "def counter(dframe):\n",
    "    for i in df1.values:\n",
    "        ag = 0\n",
    "        ex = 0\n",
    "        ne = 0\n",
    "        es = 0\n",
    "        c = 0\n",
    "        for j in i:\n",
    "            a = int(j[1])\n",
    "            b = int(j[4])\n",
    "            if a == 1:\n",
    "                ex += b\n",
    "            elif a == 2:\n",
    "                ag += b\n",
    "            elif a == 3:\n",
    "                c += b\n",
    "            elif a == 4:\n",
    "                es +=b\n",
    "            elif a == 5:\n",
    "                ne += b\n",
    "        a_list.append(ag)\n",
    "        ex_list.append(ex)\n",
    "        ne_list.append(ne)\n",
    "        es_list.append(es)\n",
    "        c_list.append(c)\n",
    "df_p = pd.DataFrame()\n",
    "df_p.apply(counter)\n",
    "df_p['Extraversion'] = ex_list\n",
    "df_p['Agreeableness'] = a_list\n",
    "df_p['Openness to New Experiences'] = ne_list\n",
    "df_p['Emotional Stability'] = es_list\n",
    "df_p['Conscientiousness'] = c_list\n",
    "df_p.head(10)"
   ]
  },
  {
   "cell_type": "markdown",
   "metadata": {},
   "source": [
    "#### Calculating the means and std deviations in order to create ranges og high, medium and low for each subscale"
   ]
  },
  {
   "cell_type": "code",
   "execution_count": 11,
   "metadata": {},
   "outputs": [],
   "source": [
    "extraversion_mean = df_p['Extraversion'].mean()\n",
    "extraversion_stdev = stdev(df_p['Extraversion'])\n",
    "\n",
    "agreeable_mean = df_p['Agreeableness'].mean()\n",
    "agreeable_stdev = stdev(df_p['Agreeableness'])\n",
    "\n",
    "emo_stab_mean = df_p['Emotional Stability'].mean()\n",
    "emo_stab_stdev = stdev(df_p['Emotional Stability'])\n",
    "\n",
    "consc_mean = df_p['Conscientiousness'].mean()\n",
    "consc_stdev = stdev(df_p['Conscientiousness'])\n",
    "\n",
    "new_exp_mean = df_p['Openness to New Experiences'].mean()\n",
    "new_exp_stdev = stdev(df_p['Openness to New Experiences'])\n"
   ]
  },
  {
   "cell_type": "code",
   "execution_count": 12,
   "metadata": {},
   "outputs": [],
   "source": [
    "extra_high = (extraversion_mean + extraversion_stdev)/2\n",
    "extra_low = (extraversion_mean - extraversion_stdev)/2\n",
    "\n",
    "agree_high = (agreeable_mean + agreeable_stdev)/2\n",
    "agree_low = (agreeable_mean - agreeable_stdev)/2\n",
    "\n",
    "emo_stab_high = (emo_stab_mean + emo_stab_stdev)/2\n",
    "emo_stab_low = (emo_stab_mean - emo_stab_stdev)/2\n",
    "\n",
    "consc_high = (consc_mean + consc_stdev)/2\n",
    "consc_low = (consc_mean - consc_stdev)/2\n",
    "\n",
    "new_exp_high = (new_exp_mean + new_exp_stdev)/2\n",
    "new_exp_low = (new_exp_mean - new_exp_stdev)/2"
   ]
  },
  {
   "cell_type": "markdown",
   "metadata": {},
   "source": [
    "#### Creating functions that will generate interpretations for each subscale"
   ]
  },
  {
   "cell_type": "code",
   "execution_count": 13,
   "metadata": {},
   "outputs": [],
   "source": [
    "#Creating functions that will generate interpretations for the subscales.\n",
    "def extra_interpret(dataframe):\n",
    "    result = []\n",
    "    for i in dataframe:\n",
    "        if i in ['Extraversion']:\n",
    "            for x in dataframe[i]:\n",
    "                if x < extra_low:\n",
    "                    result.append('low')\n",
    "                elif x > extra_high:\n",
    "                    result.append('high')\n",
    "                else:\n",
    "                    result.append('medium')\n",
    "        else:\n",
    "            pass\n",
    "    return result\n",
    "\n",
    "def emo_stab_interpret(dataframe):\n",
    "    result = []\n",
    "    for i in dataframe:\n",
    "        if i in ['Emotional Stability']:\n",
    "            for x in dataframe[i]:\n",
    "                if x < emo_stab_low:\n",
    "                    result.append('low')\n",
    "                elif x > emo_stab_high:\n",
    "                    result.append('high')\n",
    "                else:\n",
    "                    result.append('medium')\n",
    "        else:\n",
    "            pass\n",
    "    return result        \n",
    "       \n",
    "def consc_interpret(dataframe):\n",
    "    result = []\n",
    "    for i in dataframe:\n",
    "        if i in ['Conscientiousness']:\n",
    "            for x in dataframe[i]:\n",
    "                if x < consc_high:\n",
    "                    result.append('low')\n",
    "                elif x > consc_low:\n",
    "                    result.append('high')\n",
    "                else:\n",
    "                    result.append('medium')\n",
    "        else:\n",
    "            pass\n",
    "    return result                   \n",
    "def new_exp_interpret(dataframe):\n",
    "    result = []\n",
    "    for i in dataframe:\n",
    "        if i in ['Openness to New Experiences']:\n",
    "            for x in dataframe[i]:\n",
    "                if x < new_exp_low:\n",
    "                    result.append('low')\n",
    "                elif x > new_exp_high:\n",
    "                    result.append('high')\n",
    "                else:\n",
    "                    result.append('medium')\n",
    "        else:\n",
    "            pass\n",
    "    return result                   \n",
    "            \n",
    "def agree_interpret(dataframe):\n",
    "    result = []\n",
    "    for i in dataframe:\n",
    "        if i in ['Agreeableness']:\n",
    "            for x in dataframe[i]:\n",
    "                if x < agree_low:\n",
    "                    result.append('low')\n",
    "                elif x > agree_high:\n",
    "                    result.append('high')\n",
    "                else:\n",
    "                    result.append('medium')\n",
    "        else:\n",
    "            pass\n",
    "    return result  "
   ]
  },
  {
   "cell_type": "code",
   "execution_count": 14,
   "metadata": {},
   "outputs": [],
   "source": [
    "df_p['Extraversion Interpretation'] = extra_interpret(df_p)  \n",
    "df_p['Emotional Stability Interpretation'] = emo_stab_interpret(df_p)\n",
    "df_p['Conscientiousness Interpretation'] = consc_interpret(df_p)\n",
    "df_p['Openness to New Experiences Interpretation'] = new_exp_interpret(df_p)\n",
    "df_p['Agreeableness Interpretation'] = agree_interpret(df_p)"
   ]
  },
  {
   "cell_type": "markdown",
   "metadata": {},
   "source": [
    "#### Reading in csv files for a new dataframe"
   ]
  },
  {
   "cell_type": "code",
   "execution_count": 15,
   "metadata": {},
   "outputs": [],
   "source": [
    "depart = pd.read_csv('departments.csv',delimiter=';', index_col='ID')\n",
    "depart.dropna(axis='columns')\n",
    "depart.dropna(axis=1, inplace=True)\n"
   ]
  },
  {
   "cell_type": "markdown",
   "metadata": {},
   "source": [
    "#### Joining the dataframes"
   ]
  },
  {
   "cell_type": "code",
   "execution_count": 16,
   "metadata": {},
   "outputs": [
    {
     "data": {
      "text/html": [
       "<div>\n",
       "<style scoped>\n",
       "    .dataframe tbody tr th:only-of-type {\n",
       "        vertical-align: middle;\n",
       "    }\n",
       "\n",
       "    .dataframe tbody tr th {\n",
       "        vertical-align: top;\n",
       "    }\n",
       "\n",
       "    .dataframe thead th {\n",
       "        text-align: right;\n",
       "    }\n",
       "</style>\n",
       "<table border=\"1\" class=\"dataframe\">\n",
       "  <thead>\n",
       "    <tr style=\"text-align: right;\">\n",
       "      <th></th>\n",
       "      <th>Extraversion</th>\n",
       "      <th>Agreeableness</th>\n",
       "      <th>Openness to New Experiences</th>\n",
       "      <th>Emotional Stability</th>\n",
       "      <th>Conscientiousness</th>\n",
       "      <th>Extraversion Interpretation</th>\n",
       "      <th>Emotional Stability Interpretation</th>\n",
       "      <th>Conscientiousness Interpretation</th>\n",
       "      <th>Openness to New Experiences Interpretation</th>\n",
       "      <th>Agreeableness Interpretation</th>\n",
       "      <th>Department</th>\n",
       "    </tr>\n",
       "  </thead>\n",
       "  <tbody>\n",
       "    <tr>\n",
       "      <th>0</th>\n",
       "      <td>30</td>\n",
       "      <td>40</td>\n",
       "      <td>42</td>\n",
       "      <td>36</td>\n",
       "      <td>48</td>\n",
       "      <td>high</td>\n",
       "      <td>high</td>\n",
       "      <td>high</td>\n",
       "      <td>high</td>\n",
       "      <td>high</td>\n",
       "      <td>Data</td>\n",
       "    </tr>\n",
       "    <tr>\n",
       "      <th>1</th>\n",
       "      <td>42</td>\n",
       "      <td>46</td>\n",
       "      <td>42</td>\n",
       "      <td>40</td>\n",
       "      <td>46</td>\n",
       "      <td>high</td>\n",
       "      <td>high</td>\n",
       "      <td>high</td>\n",
       "      <td>high</td>\n",
       "      <td>high</td>\n",
       "      <td>Data</td>\n",
       "    </tr>\n",
       "    <tr>\n",
       "      <th>2</th>\n",
       "      <td>28</td>\n",
       "      <td>40</td>\n",
       "      <td>42</td>\n",
       "      <td>38</td>\n",
       "      <td>40</td>\n",
       "      <td>high</td>\n",
       "      <td>high</td>\n",
       "      <td>high</td>\n",
       "      <td>high</td>\n",
       "      <td>high</td>\n",
       "      <td>Data</td>\n",
       "    </tr>\n",
       "    <tr>\n",
       "      <th>3</th>\n",
       "      <td>30</td>\n",
       "      <td>38</td>\n",
       "      <td>38</td>\n",
       "      <td>40</td>\n",
       "      <td>38</td>\n",
       "      <td>high</td>\n",
       "      <td>high</td>\n",
       "      <td>high</td>\n",
       "      <td>high</td>\n",
       "      <td>high</td>\n",
       "      <td>Data</td>\n",
       "    </tr>\n",
       "    <tr>\n",
       "      <th>4</th>\n",
       "      <td>28</td>\n",
       "      <td>34</td>\n",
       "      <td>36</td>\n",
       "      <td>38</td>\n",
       "      <td>46</td>\n",
       "      <td>high</td>\n",
       "      <td>high</td>\n",
       "      <td>high</td>\n",
       "      <td>high</td>\n",
       "      <td>high</td>\n",
       "      <td>Data</td>\n",
       "    </tr>\n",
       "  </tbody>\n",
       "</table>\n",
       "</div>"
      ],
      "text/plain": [
       "   Extraversion  Agreeableness  Openness to New Experiences  \\\n",
       "0            30             40                           42   \n",
       "1            42             46                           42   \n",
       "2            28             40                           42   \n",
       "3            30             38                           38   \n",
       "4            28             34                           36   \n",
       "\n",
       "   Emotional Stability  Conscientiousness Extraversion Interpretation  \\\n",
       "0                   36                 48                        high   \n",
       "1                   40                 46                        high   \n",
       "2                   38                 40                        high   \n",
       "3                   40                 38                        high   \n",
       "4                   38                 46                        high   \n",
       "\n",
       "  Emotional Stability Interpretation Conscientiousness Interpretation  \\\n",
       "0                               high                             high   \n",
       "1                               high                             high   \n",
       "2                               high                             high   \n",
       "3                               high                             high   \n",
       "4                               high                             high   \n",
       "\n",
       "  Openness to New Experiences Interpretation Agreeableness Interpretation  \\\n",
       "0                                       high                         high   \n",
       "1                                       high                         high   \n",
       "2                                       high                         high   \n",
       "3                                       high                         high   \n",
       "4                                       high                         high   \n",
       "\n",
       "  Department  \n",
       "0       Data  \n",
       "1       Data  \n",
       "2       Data  \n",
       "3       Data  \n",
       "4       Data  "
      ]
     },
     "execution_count": 16,
     "metadata": {},
     "output_type": "execute_result"
    }
   ],
   "source": [
    "df_new = pd.concat([df_p,depart],axis=1)\n",
    "df_new.head()"
   ]
  },
  {
   "cell_type": "code",
   "execution_count": 17,
   "metadata": {},
   "outputs": [
    {
     "data": {
      "text/html": [
       "<div>\n",
       "<style scoped>\n",
       "    .dataframe tbody tr th:only-of-type {\n",
       "        vertical-align: middle;\n",
       "    }\n",
       "\n",
       "    .dataframe tbody tr th {\n",
       "        vertical-align: top;\n",
       "    }\n",
       "\n",
       "    .dataframe thead th {\n",
       "        text-align: right;\n",
       "    }\n",
       "</style>\n",
       "<table border=\"1\" class=\"dataframe\">\n",
       "  <thead>\n",
       "    <tr style=\"text-align: right;\">\n",
       "      <th></th>\n",
       "      <th>Extraversion</th>\n",
       "      <th>Agreeableness</th>\n",
       "      <th>Openness to New Experiences</th>\n",
       "      <th>Emotional Stability</th>\n",
       "      <th>Conscientiousness</th>\n",
       "      <th>Extraversion Interpretation</th>\n",
       "      <th>Emotional Stability Interpretation</th>\n",
       "      <th>Conscientiousness Interpretation</th>\n",
       "      <th>Openness to New Experiences Interpretation</th>\n",
       "      <th>Agreeableness Interpretation</th>\n",
       "      <th>Department</th>\n",
       "    </tr>\n",
       "  </thead>\n",
       "  <tbody>\n",
       "    <tr>\n",
       "      <th>0</th>\n",
       "      <td>30</td>\n",
       "      <td>40</td>\n",
       "      <td>42</td>\n",
       "      <td>36</td>\n",
       "      <td>48</td>\n",
       "      <td>high</td>\n",
       "      <td>high</td>\n",
       "      <td>high</td>\n",
       "      <td>high</td>\n",
       "      <td>high</td>\n",
       "      <td>Data</td>\n",
       "    </tr>\n",
       "    <tr>\n",
       "      <th>1</th>\n",
       "      <td>42</td>\n",
       "      <td>46</td>\n",
       "      <td>42</td>\n",
       "      <td>40</td>\n",
       "      <td>46</td>\n",
       "      <td>high</td>\n",
       "      <td>high</td>\n",
       "      <td>high</td>\n",
       "      <td>high</td>\n",
       "      <td>high</td>\n",
       "      <td>Data</td>\n",
       "    </tr>\n",
       "    <tr>\n",
       "      <th>2</th>\n",
       "      <td>28</td>\n",
       "      <td>40</td>\n",
       "      <td>42</td>\n",
       "      <td>38</td>\n",
       "      <td>40</td>\n",
       "      <td>high</td>\n",
       "      <td>high</td>\n",
       "      <td>high</td>\n",
       "      <td>high</td>\n",
       "      <td>high</td>\n",
       "      <td>Data</td>\n",
       "    </tr>\n",
       "    <tr>\n",
       "      <th>3</th>\n",
       "      <td>30</td>\n",
       "      <td>38</td>\n",
       "      <td>38</td>\n",
       "      <td>40</td>\n",
       "      <td>38</td>\n",
       "      <td>high</td>\n",
       "      <td>high</td>\n",
       "      <td>high</td>\n",
       "      <td>high</td>\n",
       "      <td>high</td>\n",
       "      <td>Data</td>\n",
       "    </tr>\n",
       "    <tr>\n",
       "      <th>4</th>\n",
       "      <td>28</td>\n",
       "      <td>34</td>\n",
       "      <td>36</td>\n",
       "      <td>38</td>\n",
       "      <td>46</td>\n",
       "      <td>high</td>\n",
       "      <td>high</td>\n",
       "      <td>high</td>\n",
       "      <td>high</td>\n",
       "      <td>high</td>\n",
       "      <td>Data</td>\n",
       "    </tr>\n",
       "    <tr>\n",
       "      <th>5</th>\n",
       "      <td>48</td>\n",
       "      <td>46</td>\n",
       "      <td>36</td>\n",
       "      <td>46</td>\n",
       "      <td>42</td>\n",
       "      <td>high</td>\n",
       "      <td>high</td>\n",
       "      <td>high</td>\n",
       "      <td>high</td>\n",
       "      <td>high</td>\n",
       "      <td>Data</td>\n",
       "    </tr>\n",
       "    <tr>\n",
       "      <th>6</th>\n",
       "      <td>38</td>\n",
       "      <td>44</td>\n",
       "      <td>42</td>\n",
       "      <td>36</td>\n",
       "      <td>50</td>\n",
       "      <td>high</td>\n",
       "      <td>high</td>\n",
       "      <td>high</td>\n",
       "      <td>high</td>\n",
       "      <td>high</td>\n",
       "      <td>Data</td>\n",
       "    </tr>\n",
       "    <tr>\n",
       "      <th>7</th>\n",
       "      <td>30</td>\n",
       "      <td>48</td>\n",
       "      <td>42</td>\n",
       "      <td>42</td>\n",
       "      <td>48</td>\n",
       "      <td>high</td>\n",
       "      <td>high</td>\n",
       "      <td>high</td>\n",
       "      <td>high</td>\n",
       "      <td>high</td>\n",
       "      <td>Data</td>\n",
       "    </tr>\n",
       "    <tr>\n",
       "      <th>8</th>\n",
       "      <td>40</td>\n",
       "      <td>46</td>\n",
       "      <td>48</td>\n",
       "      <td>44</td>\n",
       "      <td>48</td>\n",
       "      <td>high</td>\n",
       "      <td>high</td>\n",
       "      <td>high</td>\n",
       "      <td>high</td>\n",
       "      <td>high</td>\n",
       "      <td>Data</td>\n",
       "    </tr>\n",
       "    <tr>\n",
       "      <th>9</th>\n",
       "      <td>32</td>\n",
       "      <td>44</td>\n",
       "      <td>42</td>\n",
       "      <td>18</td>\n",
       "      <td>36</td>\n",
       "      <td>high</td>\n",
       "      <td>medium</td>\n",
       "      <td>high</td>\n",
       "      <td>high</td>\n",
       "      <td>high</td>\n",
       "      <td>Data</td>\n",
       "    </tr>\n",
       "  </tbody>\n",
       "</table>\n",
       "</div>"
      ],
      "text/plain": [
       "   Extraversion  Agreeableness  Openness to New Experiences  \\\n",
       "0            30             40                           42   \n",
       "1            42             46                           42   \n",
       "2            28             40                           42   \n",
       "3            30             38                           38   \n",
       "4            28             34                           36   \n",
       "5            48             46                           36   \n",
       "6            38             44                           42   \n",
       "7            30             48                           42   \n",
       "8            40             46                           48   \n",
       "9            32             44                           42   \n",
       "\n",
       "   Emotional Stability  Conscientiousness Extraversion Interpretation  \\\n",
       "0                   36                 48                        high   \n",
       "1                   40                 46                        high   \n",
       "2                   38                 40                        high   \n",
       "3                   40                 38                        high   \n",
       "4                   38                 46                        high   \n",
       "5                   46                 42                        high   \n",
       "6                   36                 50                        high   \n",
       "7                   42                 48                        high   \n",
       "8                   44                 48                        high   \n",
       "9                   18                 36                        high   \n",
       "\n",
       "  Emotional Stability Interpretation Conscientiousness Interpretation  \\\n",
       "0                               high                             high   \n",
       "1                               high                             high   \n",
       "2                               high                             high   \n",
       "3                               high                             high   \n",
       "4                               high                             high   \n",
       "5                               high                             high   \n",
       "6                               high                             high   \n",
       "7                               high                             high   \n",
       "8                               high                             high   \n",
       "9                             medium                             high   \n",
       "\n",
       "  Openness to New Experiences Interpretation Agreeableness Interpretation  \\\n",
       "0                                       high                         high   \n",
       "1                                       high                         high   \n",
       "2                                       high                         high   \n",
       "3                                       high                         high   \n",
       "4                                       high                         high   \n",
       "5                                       high                         high   \n",
       "6                                       high                         high   \n",
       "7                                       high                         high   \n",
       "8                                       high                         high   \n",
       "9                                       high                         high   \n",
       "\n",
       "  Department  \n",
       "0       Data  \n",
       "1       Data  \n",
       "2       Data  \n",
       "3       Data  \n",
       "4       Data  \n",
       "5       Data  \n",
       "6       Data  \n",
       "7       Data  \n",
       "8       Data  \n",
       "9       Data  "
      ]
     },
     "execution_count": 17,
     "metadata": {},
     "output_type": "execute_result"
    }
   ],
   "source": [
    "df_new['Department'] = df_new['Department'].str.replace(';','d',regex=True)\n",
    "df_new.replace(to_replace='Web dev',value='Web Dev')\n",
    "\n",
    "df_new.head(10)\n"
   ]
  },
  {
   "cell_type": "code",
   "execution_count": 18,
   "metadata": {},
   "outputs": [],
   "source": [
    "df_new.replace(to_replace='Web dev',value='Web Dev')\n",
    "data = df_new[df_new['Department'].str.contains(\"Data\")]\n",
    "strat = df_new[df_new['Department'].str.contains(\"Strategy\")]\n",
    "copy = df_new[df_new['Department'].str.contains(\"Copywriting\")]\n",
    "design = df_new[df_new['Department'].str.contains(\"Design\")]\n",
    "web = df_new[df_new['Department'].str.contains(\"Web Dev\")]\n"
   ]
  },
  {
   "cell_type": "markdown",
   "metadata": {},
   "source": [
    "## Extraversion Scores"
   ]
  },
  {
   "cell_type": "code",
   "execution_count": 19,
   "metadata": {},
   "outputs": [
    {
     "data": {
      "image/png": "[encoded data removed]",
      "text/plain": [
       "<matplotlib.figure.Figure at 0x7f4f08733910>"
      ]
     },
     "metadata": {
      "needs_background": "light"
     },
     "output_type": "display_data"
    }
   ],
   "source": [
    "plt.figure(figsize=(15,8))\n",
    "plt.hist(data['Extraversion'],bins=10,color='teal')\n",
    "plt.xlabel('Extraversion Scores')\n",
    "plt.ylabel('Applicants')\n",
    "plt.title('Extraversion Scores for Data Science Applicants')\n",
    "plt.show()"
   ]
  },
  {
   "cell_type": "code",
   "execution_count": 20,
   "metadata": {},
   "outputs": [
    {
     "data": {
      "image/png": "[encoded data removed]",
      "text/plain": [
       "<matplotlib.figure.Figure at 0x7f4f086b8290>"
      ]
     },
     "metadata": {
      "needs_background": "light"
     },
     "output_type": "display_data"
    }
   ],
   "source": [
    "plt.figure(figsize=(15,8))\n",
    "plt.hist(web['Extraversion'],bins=10,color='olive')\n",
    "plt.xlabel('Extraversion Scores')\n",
    "plt.ylabel('Applicants')\n",
    "plt.title('Extraversion Scores for Web Dev Applicants')\n",
    "plt.show()"
   ]
  },
  {
   "cell_type": "code",
   "execution_count": 21,
   "metadata": {},
   "outputs": [
    {
     "data": {
      "image/png": "[encoded data removed]",
      "text/plain": [
       "<matplotlib.figure.Figure at 0x7f4f08719e50>"
      ]
     },
     "metadata": {
      "needs_background": "light"
     },
     "output_type": "display_data"
    }
   ],
   "source": [
    "plt.figure(figsize=(15,8))\n",
    "plt.hist(copy['Extraversion'],bins=10,color='skyblue')\n",
    "plt.xlabel('Extraversion Scores')\n",
    "plt.ylabel('Applicants')\n",
    "plt.title('Extraversion Scores for Copywriting Applicants')\n",
    "plt.show()"
   ]
  },
  {
   "cell_type": "code",
   "execution_count": 22,
   "metadata": {},
   "outputs": [
    {
     "data": {
      "image/png": "[encoded data removed]",
      "text/plain": [
       "<matplotlib.figure.Figure at 0x7f4f06468f90>"
      ]
     },
     "metadata": {
      "needs_background": "light"
     },
     "output_type": "display_data"
    }
   ],
   "source": [
    "plt.figure(figsize=(15,8))\n",
    "plt.hist(design['Extraversion'],bins=10,color='firebrick')\n",
    "plt.xlabel('Extraversion Scores')\n",
    "plt.ylabel('Applicants')\n",
    "plt.title('Extraversion Scores for Design Applicants')\n",
    "plt.show()"
   ]
  },
  {
   "cell_type": "code",
   "execution_count": 23,
   "metadata": {},
   "outputs": [
    {
     "data": {
      "image/png": "[encoded data removed]",
      "text/plain": [
       "<matplotlib.figure.Figure at 0x7f4f064d1850>"
      ]
     },
     "metadata": {
      "needs_background": "light"
     },
     "output_type": "display_data"
    }
   ],
   "source": [
    "plt.figure(figsize=(15,8))\n",
    "plt.hist(strat['Extraversion'],bins=10,color='slateblue')\n",
    "plt.xlabel('Extraversion Scores')\n",
    "plt.ylabel('Applicants')\n",
    "plt.title('Extraversion Scores for Strategy  Applicants')\n",
    "plt.show()"
   ]
  },
  {
   "cell_type": "markdown",
   "metadata": {},
   "source": [
    "## Emotional Stability Scores"
   ]
  },
  {
   "cell_type": "code",
   "execution_count": 24,
   "metadata": {},
   "outputs": [
    {
     "data": {
      "image/png": "[encoded data removed]",
      "text/plain": [
       "<matplotlib.figure.Figure at 0x7f4f060c19d0>"
      ]
     },
     "metadata": {
      "needs_background": "light"
     },
     "output_type": "display_data"
    }
   ],
   "source": [
    "plt.figure(figsize=(15,8))\n",
    "plt.hist(data['Emotional Stability'],bins=10,color='teal')\n",
    "plt.xlabel('Emotional Stability Scores')\n",
    "plt.ylabel('Applicants')\n",
    "plt.title('Emotional Stability Scores for Data Science Applicants')\n",
    "plt.show()"
   ]
  },
  {
   "cell_type": "code",
   "execution_count": 25,
   "metadata": {},
   "outputs": [
    {
     "data": {
      "image/png": "[encoded data removed]",
      "text/plain": [
       "<matplotlib.figure.Figure at 0x7f4f0633b390>"
      ]
     },
     "metadata": {
      "needs_background": "light"
     },
     "output_type": "display_data"
    }
   ],
   "source": [
    "plt.figure(figsize=(15,8))\n",
    "plt.hist(web['Emotional Stability'],bins=10,color='slateblue')\n",
    "plt.xlabel('Emotional Stability Scores')\n",
    "plt.ylabel('Applicants')\n",
    "plt.title('Emotional Stability Scores for Web Dev Applicants')\n",
    "plt.show()"
   ]
  },
  {
   "cell_type": "code",
   "execution_count": 26,
   "metadata": {},
   "outputs": [
    {
     "data": {
      "image/png": "[encoded data removed]",
      "text/plain": [
       "<matplotlib.figure.Figure at 0x7f4f060a3950>"
      ]
     },
     "metadata": {
      "needs_background": "light"
     },
     "output_type": "display_data"
    }
   ],
   "source": [
    "plt.figure(figsize=(15,8))\n",
    "plt.hist(strat['Emotional Stability'],bins=10,color='steelblue')\n",
    "plt.xlabel('Emotional Stability Scores')\n",
    "plt.ylabel('Applicants')\n",
    "plt.title('Emotional Stability Scores for Strategy  Applicants')\n",
    "plt.show()"
   ]
  },
  {
   "cell_type": "code",
   "execution_count": 27,
   "metadata": {},
   "outputs": [
    {
     "data": {
      "image/png": "[encoded data removed]",
      "text/plain": [
       "<matplotlib.figure.Figure at 0x7f4f05f178d0>"
      ]
     },
     "metadata": {
      "needs_background": "light"
     },
     "output_type": "display_data"
    }
   ],
   "source": [
    "plt.figure(figsize=(15,8))\n",
    "plt.hist(copy['Emotional Stability'],bins=10,color='dodgerblue')\n",
    "plt.xlabel('Emotional Stability Scores')\n",
    "plt.ylabel('Applicants')\n",
    "plt.title('Emotional Stability Scores for Copywriting  Applicants')\n",
    "plt.show()"
   ]
  },
  {
   "cell_type": "code",
   "execution_count": 28,
   "metadata": {},
   "outputs": [
    {
     "data": {
      "image/png": "[encoded data removed]",
      "text/plain": [
       "<matplotlib.figure.Figure at 0x7f4f05de3b90>"
      ]
     },
     "metadata": {
      "needs_background": "light"
     },
     "output_type": "display_data"
    }
   ],
   "source": [
    "plt.figure(figsize=(15,8))\n",
    "plt.hist(design['Emotional Stability'],bins=10,color='darkviolet')\n",
    "plt.xlabel('Emotional Stability Scores')\n",
    "plt.ylabel('Applicants')\n",
    "plt.title('Emotional Stability Scores for Design  Applicants')\n",
    "plt.show()"
   ]
  },
  {
   "cell_type": "markdown",
   "metadata": {},
   "source": [
    "## Conscientiousness Scores"
   ]
  },
  {
   "cell_type": "code",
   "execution_count": 29,
   "metadata": {},
   "outputs": [
    {
     "data": {
      "image/png": "[encoded data removed]",
      "text/plain": [
       "<matplotlib.figure.Figure at 0x7f4f05e03b90>"
      ]
     },
     "metadata": {
      "needs_background": "light"
     },
     "output_type": "display_data"
    }
   ],
   "source": [
    "plt.figure(figsize=(15,8))\n",
    "plt.hist(data['Conscientiousness'],bins=10,color='teal')\n",
    "plt.xlabel('Conscientiousness Scores')\n",
    "plt.ylabel('Applicants')\n",
    "plt.title('Conscientiousness Scores for Data Science Applicants')\n",
    "plt.show()"
   ]
  },
  {
   "cell_type": "code",
   "execution_count": 30,
   "metadata": {},
   "outputs": [
    {
     "data": {
      "image/png": "[encoded data removed]",
      "text/plain": [
       "<matplotlib.figure.Figure at 0x7f4f05d4c950>"
      ]
     },
     "metadata": {
      "needs_background": "light"
     },
     "output_type": "display_data"
    }
   ],
   "source": [
    "plt.figure(figsize=(15,8))\n",
    "plt.hist(strat['Conscientiousness'],bins=10,color='steelblue')\n",
    "plt.xlabel('Conscientiousness Scores')\n",
    "plt.ylabel('Applicants')\n",
    "plt.title('Conscientiousness Scores for Strategy Applicants')\n",
    "plt.show()"
   ]
  },
  {
   "cell_type": "code",
   "execution_count": 31,
   "metadata": {},
   "outputs": [
    {
     "data": {
      "image/png": "[encoded data removed]",
      "text/plain": [
       "<matplotlib.figure.Figure at 0x7f4f05d32b10>"
      ]
     },
     "metadata": {
      "needs_background": "light"
     },
     "output_type": "display_data"
    }
   ],
   "source": [
    "plt.figure(figsize=(15,8))\n",
    "plt.hist(web['Conscientiousness'],bins=10,color='firebrick')\n",
    "plt.xlabel('Conscientiousness Scores')\n",
    "plt.ylabel('Applicants')\n",
    "plt.title('Conscientiousness Scores for Web Dev Applicants')\n",
    "plt.show()"
   ]
  },
  {
   "cell_type": "code",
   "execution_count": 32,
   "metadata": {},
   "outputs": [
    {
     "data": {
      "image/png": "[encoded data removed]",
      "text/plain": [
       "<matplotlib.figure.Figure at 0x7f4f05b419d0>"
      ]
     },
     "metadata": {
      "needs_background": "light"
     },
     "output_type": "display_data"
    }
   ],
   "source": [
    "plt.figure(figsize=(15,8))\n",
    "plt.hist(design['Conscientiousness'],bins=10,color='olive')\n",
    "plt.xlabel('Conscientiousness Scores')\n",
    "plt.ylabel('Applicants')\n",
    "plt.title('Conscientiousness Scores for Design Applicants')\n",
    "plt.show()"
   ]
  },
  {
   "cell_type": "code",
   "execution_count": 33,
   "metadata": {},
   "outputs": [
    {
     "data": {
      "image/png": "[encoded data removed]",
      "text/plain": [
       "<matplotlib.figure.Figure at 0x7f4f35416750>"
      ]
     },
     "metadata": {
      "needs_background": "light"
     },
     "output_type": "display_data"
    }
   ],
   "source": [
    "plt.figure(figsize=(15,8))\n",
    "plt.hist(copy['Conscientiousness'],bins=10,color='skyblue')\n",
    "plt.xlabel('Conscientiousness Scores')\n",
    "plt.ylabel('Applicants')\n",
    "plt.title('Conscientiousness Scores for Copywriting Applicants')\n",
    "plt.show()"
   ]
  },
  {
   "cell_type": "markdown",
   "metadata": {},
   "source": [
    "## Agreeableness Scores"
   ]
  },
  {
   "cell_type": "code",
   "execution_count": 34,
   "metadata": {},
   "outputs": [
    {
     "data": {
      "image/png": "[encoded data removed]",
      "text/plain": [
       "<matplotlib.figure.Figure at 0x7f4f06330790>"
      ]
     },
     "metadata": {
      "needs_background": "light"
     },
     "output_type": "display_data"
    }
   ],
   "source": [
    "plt.figure(figsize=(15,8))\n",
    "plt.hist(data['Agreeableness'],bins=10,color='teal')\n",
    "plt.xlabel('Agreeableness Scores')\n",
    "plt.ylabel('Applicants')\n",
    "plt.title('Agreeableness Scores for Data Science Applicants')\n",
    "plt.show()"
   ]
  },
  {
   "cell_type": "code",
   "execution_count": 35,
   "metadata": {},
   "outputs": [
    {
     "data": {
      "image/png": "[encoded data removed]",
      "text/plain": [
       "<matplotlib.figure.Figure at 0x7f4f06602550>"
      ]
     },
     "metadata": {
      "needs_background": "light"
     },
     "output_type": "display_data"
    }
   ],
   "source": [
    "plt.figure(figsize=(15,8))\n",
    "plt.hist(web['Agreeableness'],bins=10,color='maroon')\n",
    "plt.xlabel('Agreeableness Scores')\n",
    "plt.ylabel('Applicants')\n",
    "plt.title('Agreeableness Scores for Web Dev Applicants')\n",
    "plt.show()"
   ]
  },
  {
   "cell_type": "code",
   "execution_count": 36,
   "metadata": {},
   "outputs": [
    {
     "data": {
      "image/png": "[encoded data removed]",
      "text/plain": [
       "<matplotlib.figure.Figure at 0x7f4f05ccf650>"
      ]
     },
     "metadata": {
      "needs_background": "light"
     },
     "output_type": "display_data"
    }
   ],
   "source": [
    "plt.figure(figsize=(15,8))\n",
    "plt.hist(strat['Agreeableness'],bins=10,color='pink')\n",
    "plt.xlabel('Agreeableness Scores')\n",
    "plt.ylabel('Applicants')\n",
    "plt.title('Agreeableness Scores for Strategy Applicants')\n",
    "plt.show()"
   ]
  },
  {
   "cell_type": "code",
   "execution_count": 37,
   "metadata": {},
   "outputs": [
    {
     "data": {
      "image/png": "[encoded data removed]",
      "text/plain": [
       "<matplotlib.figure.Figure at 0x7f4f05f755d0>"
      ]
     },
     "metadata": {
      "needs_background": "light"
     },
     "output_type": "display_data"
    }
   ],
   "source": [
    "plt.figure(figsize=(15,8))\n",
    "plt.hist(copy['Agreeableness'],bins=10,color='skyblue')\n",
    "plt.xlabel('Agreeableness Scores')\n",
    "plt.ylabel('Applicants')\n",
    "plt.title('Agreeableness Scores for Copywriting Applicants')\n",
    "plt.show()"
   ]
  },
  {
   "cell_type": "code",
   "execution_count": 38,
   "metadata": {},
   "outputs": [
    {
     "data": {
      "image/png": "[encoded data removed]",
      "text/plain": [
       "<matplotlib.figure.Figure at 0x7f4f06064150>"
      ]
     },
     "metadata": {
      "needs_background": "light"
     },
     "output_type": "display_data"
    }
   ],
   "source": [
    "plt.figure(figsize=(15,8))\n",
    "plt.hist(design['Agreeableness'],bins=10,color='olive')\n",
    "plt.xlabel('Agreeableness Scores')\n",
    "plt.ylabel('Applicants')\n",
    "plt.title('Agreeableness Scores for Design Applicants')\n",
    "plt.show()"
   ]
  },
  {
   "cell_type": "markdown",
   "metadata": {},
   "source": [
    "## Openness to New Experiences Scores"
   ]
  },
  {
   "cell_type": "code",
   "execution_count": 39,
   "metadata": {},
   "outputs": [
    {
     "data": {
      "image/png": "[encoded data removed]",
      "text/plain": [
       "<matplotlib.figure.Figure at 0x7f4f05aa9390>"
      ]
     },
     "metadata": {
      "needs_background": "light"
     },
     "output_type": "display_data"
    }
   ],
   "source": [
    "plt.figure(figsize=(15,8))\n",
    "plt.hist(data['Openness to New Experiences'],bins=10,color='teal')\n",
    "plt.xlabel('Openness to New Experiences Scores')\n",
    "plt.ylabel('Applicants')\n",
    "plt.title('Openness to New Experiences Scores for Data Science Applicants')\n",
    "plt.show()"
   ]
  },
  {
   "cell_type": "code",
   "execution_count": 40,
   "metadata": {},
   "outputs": [
    {
     "data": {
      "image/png": "[encoded data removed]",
      "text/plain": [
       "<matplotlib.figure.Figure at 0x7f4f05e57c50>"
      ]
     },
     "metadata": {
      "needs_background": "light"
     },
     "output_type": "display_data"
    }
   ],
   "source": [
    "plt.figure(figsize=(15,8))\n",
    "plt.hist(strat['Openness to New Experiences'],bins=10,color='maroon')\n",
    "plt.xlabel('Openness to New Experiences Scores')\n",
    "plt.ylabel('Applicants')\n",
    "plt.title('Openness to New Experiences Scores for Strategy Applicants')\n",
    "plt.show()"
   ]
  },
  {
   "cell_type": "code",
   "execution_count": 41,
   "metadata": {},
   "outputs": [
    {
     "data": {
      "image/png": "[encoded data removed]",
      "text/plain": [
       "<matplotlib.figure.Figure at 0x7f4f0601e790>"
      ]
     },
     "metadata": {
      "needs_background": "light"
     },
     "output_type": "display_data"
    }
   ],
   "source": [
    "plt.figure(figsize=(15,8))\n",
    "plt.hist(web['Openness to New Experiences'],bins=10,color='firebrick')\n",
    "plt.xlabel('Openness to New Experiences Scores')\n",
    "plt.ylabel('Applicants')\n",
    "plt.title('Openness to New Experiences Scores for Web Dev Applicants')\n",
    "plt.show()"
   ]
  },
  {
   "cell_type": "code",
   "execution_count": 42,
   "metadata": {},
   "outputs": [
    {
     "data": {
      "image/png": "[encoded data removed]",
      "text/plain": [
       "<matplotlib.figure.Figure at 0x7f4f062a12d0>"
      ]
     },
     "metadata": {
      "needs_background": "light"
     },
     "output_type": "display_data"
    }
   ],
   "source": [
    "plt.figure(figsize=(15,8))\n",
    "plt.hist(copy['Openness to New Experiences'],bins=10,color='skyblue')\n",
    "plt.xlabel('Openness to New Experiences Scores')\n",
    "plt.ylabel('Applicants')\n",
    "plt.title('Openness to New Experiences Scores for Copywriting Applicants')\n",
    "plt.show()"
   ]
  },
  {
   "cell_type": "code",
   "execution_count": 43,
   "metadata": {},
   "outputs": [
    {
     "data": {
      "image/png": "[encoded data removed]",
      "text/plain": [
       "<matplotlib.figure.Figure at 0x7f4f062b1fd0>"
      ]
     },
     "metadata": {
      "needs_background": "light"
     },
     "output_type": "display_data"
    }
   ],
   "source": [
    "plt.figure(figsize=(15,8))\n",
    "plt.hist(design['Openness to New Experiences'],bins=10,color='olive')\n",
    "plt.xlabel('Openness to New Experiences Scores')\n",
    "plt.ylabel('Applicants')\n",
    "plt.title('Openness to New Experiences Scores for Design  Applicants')\n",
    "plt.show()"
   ]
  },
  {
   "cell_type": "markdown",
   "metadata": {},
   "source": [
    "## Classifying high risk applicants"
   ]
  },
  {
   "cell_type": "code",
   "execution_count": 44,
   "metadata": {},
   "outputs": [
    {
     "data": {
      "text/html": [
       "<div>\n",
       "<style scoped>\n",
       "    .dataframe tbody tr th:only-of-type {\n",
       "        vertical-align: middle;\n",
       "    }\n",
       "\n",
       "    .dataframe tbody tr th {\n",
       "        vertical-align: top;\n",
       "    }\n",
       "\n",
       "    .dataframe thead th {\n",
       "        text-align: right;\n",
       "    }\n",
       "</style>\n",
       "<table border=\"1\" class=\"dataframe\">\n",
       "  <thead>\n",
       "    <tr style=\"text-align: right;\">\n",
       "      <th></th>\n",
       "      <th>Department</th>\n",
       "      <th>high_risk</th>\n",
       "    </tr>\n",
       "  </thead>\n",
       "  <tbody>\n",
       "    <tr>\n",
       "      <th>18</th>\n",
       "      <td>Data</td>\n",
       "      <td>high_risk</td>\n",
       "    </tr>\n",
       "    <tr>\n",
       "      <th>27</th>\n",
       "      <td>Data</td>\n",
       "      <td>high_risk</td>\n",
       "    </tr>\n",
       "    <tr>\n",
       "      <th>663</th>\n",
       "      <td>Strategy</td>\n",
       "      <td>high_risk</td>\n",
       "    </tr>\n",
       "    <tr>\n",
       "      <th>1154</th>\n",
       "      <td>Copywriting</td>\n",
       "      <td>high_risk</td>\n",
       "    </tr>\n",
       "    <tr>\n",
       "      <th>526</th>\n",
       "      <td>Strategy</td>\n",
       "      <td>high_risk</td>\n",
       "    </tr>\n",
       "    <tr>\n",
       "      <th>584</th>\n",
       "      <td>Strategy</td>\n",
       "      <td>high_risk</td>\n",
       "    </tr>\n",
       "    <tr>\n",
       "      <th>960</th>\n",
       "      <td>Data</td>\n",
       "      <td>high_risk</td>\n",
       "    </tr>\n",
       "  </tbody>\n",
       "</table>\n",
       "</div>"
      ],
      "text/plain": [
       "       Department  high_risk\n",
       "18           Data  high_risk\n",
       "27           Data  high_risk\n",
       "663      Strategy  high_risk\n",
       "1154  Copywriting  high_risk\n",
       "526      Strategy  high_risk\n",
       "584      Strategy  high_risk\n",
       "960          Data  high_risk"
      ]
     },
     "execution_count": 44,
     "metadata": {},
     "output_type": "execute_result"
    }
   ],
   "source": [
    "ext = df_new['Emotional Stability'] < emo_stab_low\n",
    "agr = df_new['Agreeableness'] < agree_low \n",
    "con = df_new['Conscientiousness'] < consc_low\n",
    "risk = pd.DataFrame()\n",
    "\n",
    "r = df_new[ext] \n",
    "s =df_new[con]\n",
    "a = r.append(s)\n",
    "a['high_risk'] = ['high_risk','high_risk','high_risk','high_risk','high_risk','high_risk','high_risk']\n",
    "a.drop(['Extraversion','Agreeableness','Openness to New Experiences','Emotional Stability','Conscientiousness','Extraversion Interpretation','Emotional Stability Interpretation','Conscientiousness Interpretation','Openness to New Experiences Interpretation','Agreeableness Interpretation'],axis=1)\n"
   ]
  },
  {
   "cell_type": "code",
   "execution_count": 45,
   "metadata": {},
   "outputs": [
    {
     "name": "stderr",
     "output_type": "stream",
     "text": [
      "/home/milpontia/.local/lib/python2.7/site-packages/ipykernel_launcher.py:2: SettingWithCopyWarning: \n",
      "A value is trying to be set on a copy of a slice from a DataFrame.\n",
      "Try using .loc[row_indexer,col_indexer] = value instead\n",
      "\n",
      "See the caveats in the documentation: http://pandas.pydata.org/pandas-docs/stable/indexing.html#indexing-view-versus-copy\n",
      "  \n"
     ]
    }
   ],
   "source": [
    "con_int = df_new[['Conscientiousness Interpretation','Extraversion Interpretation','Openness to New Experiences Interpretation','Agreeableness Interpretation','Emotional Stability Interpretation','Department','Extraversion']]\n",
    "con_int['Department'] = con_int['Department'].str.upper()\n",
    "\n"
   ]
  },
  {
   "cell_type": "code",
   "execution_count": 46,
   "metadata": {},
   "outputs": [
    {
     "data": {
      "text/html": [
       "<div>\n",
       "<style scoped>\n",
       "    .dataframe tbody tr th:only-of-type {\n",
       "        vertical-align: middle;\n",
       "    }\n",
       "\n",
       "    .dataframe tbody tr th {\n",
       "        vertical-align: top;\n",
       "    }\n",
       "\n",
       "    .dataframe thead th {\n",
       "        text-align: right;\n",
       "    }\n",
       "</style>\n",
       "<table border=\"1\" class=\"dataframe\">\n",
       "  <thead>\n",
       "    <tr style=\"text-align: right;\">\n",
       "      <th></th>\n",
       "      <th>Conscientiousness Interpretation</th>\n",
       "      <th>Extraversion Interpretation</th>\n",
       "      <th>Openness to New Experiences Interpretation</th>\n",
       "      <th>Agreeableness Interpretation</th>\n",
       "      <th>Emotional Stability Interpretation</th>\n",
       "      <th>Department</th>\n",
       "      <th>Extraversion</th>\n",
       "    </tr>\n",
       "  </thead>\n",
       "  <tbody>\n",
       "    <tr>\n",
       "      <th>0</th>\n",
       "      <td>high</td>\n",
       "      <td>high</td>\n",
       "      <td>high</td>\n",
       "      <td>high</td>\n",
       "      <td>high</td>\n",
       "      <td>DATA</td>\n",
       "      <td>30</td>\n",
       "    </tr>\n",
       "    <tr>\n",
       "      <th>1</th>\n",
       "      <td>high</td>\n",
       "      <td>high</td>\n",
       "      <td>high</td>\n",
       "      <td>high</td>\n",
       "      <td>high</td>\n",
       "      <td>DATA</td>\n",
       "      <td>42</td>\n",
       "    </tr>\n",
       "    <tr>\n",
       "      <th>2</th>\n",
       "      <td>high</td>\n",
       "      <td>high</td>\n",
       "      <td>high</td>\n",
       "      <td>high</td>\n",
       "      <td>high</td>\n",
       "      <td>DATA</td>\n",
       "      <td>28</td>\n",
       "    </tr>\n",
       "    <tr>\n",
       "      <th>3</th>\n",
       "      <td>high</td>\n",
       "      <td>high</td>\n",
       "      <td>high</td>\n",
       "      <td>high</td>\n",
       "      <td>high</td>\n",
       "      <td>DATA</td>\n",
       "      <td>30</td>\n",
       "    </tr>\n",
       "    <tr>\n",
       "      <th>4</th>\n",
       "      <td>high</td>\n",
       "      <td>high</td>\n",
       "      <td>high</td>\n",
       "      <td>high</td>\n",
       "      <td>high</td>\n",
       "      <td>DATA</td>\n",
       "      <td>28</td>\n",
       "    </tr>\n",
       "  </tbody>\n",
       "</table>\n",
       "</div>"
      ],
      "text/plain": [
       "  Conscientiousness Interpretation Extraversion Interpretation  \\\n",
       "0                             high                        high   \n",
       "1                             high                        high   \n",
       "2                             high                        high   \n",
       "3                             high                        high   \n",
       "4                             high                        high   \n",
       "\n",
       "  Openness to New Experiences Interpretation Agreeableness Interpretation  \\\n",
       "0                                       high                         high   \n",
       "1                                       high                         high   \n",
       "2                                       high                         high   \n",
       "3                                       high                         high   \n",
       "4                                       high                         high   \n",
       "\n",
       "  Emotional Stability Interpretation Department  Extraversion  \n",
       "0                               high       DATA            30  \n",
       "1                               high       DATA            42  \n",
       "2                               high       DATA            28  \n",
       "3                               high       DATA            30  \n",
       "4                               high       DATA            28  "
      ]
     },
     "execution_count": 46,
     "metadata": {},
     "output_type": "execute_result"
    }
   ],
   "source": [
    "con_int.head()"
   ]
  },
  {
   "cell_type": "code",
   "execution_count": 47,
   "metadata": {},
   "outputs": [
    {
     "data": {
      "text/html": [
       "<div>\n",
       "<style scoped>\n",
       "    .dataframe tbody tr th:only-of-type {\n",
       "        vertical-align: middle;\n",
       "    }\n",
       "\n",
       "    .dataframe tbody tr th {\n",
       "        vertical-align: top;\n",
       "    }\n",
       "\n",
       "    .dataframe thead th {\n",
       "        text-align: right;\n",
       "    }\n",
       "</style>\n",
       "<table border=\"1\" class=\"dataframe\">\n",
       "  <thead>\n",
       "    <tr style=\"text-align: right;\">\n",
       "      <th>Department</th>\n",
       "      <th>COPYWRITING</th>\n",
       "      <th>DATA</th>\n",
       "      <th>DESIGN</th>\n",
       "      <th>STRATEGY</th>\n",
       "      <th>WEB DEV</th>\n",
       "    </tr>\n",
       "    <tr>\n",
       "      <th>Subscale</th>\n",
       "      <th></th>\n",
       "      <th></th>\n",
       "      <th></th>\n",
       "      <th></th>\n",
       "      <th></th>\n",
       "    </tr>\n",
       "  </thead>\n",
       "  <tbody>\n",
       "    <tr>\n",
       "      <th>Emotional Stability</th>\n",
       "      <td>1</td>\n",
       "      <td>2</td>\n",
       "      <td>0</td>\n",
       "      <td>1</td>\n",
       "      <td>0</td>\n",
       "    </tr>\n",
       "    <tr>\n",
       "      <th>Extraversion</th>\n",
       "      <td>1</td>\n",
       "      <td>0</td>\n",
       "      <td>0</td>\n",
       "      <td>2</td>\n",
       "      <td>0</td>\n",
       "    </tr>\n",
       "    <tr>\n",
       "      <th>Conscientiousness</th>\n",
       "      <td>2</td>\n",
       "      <td>1</td>\n",
       "      <td>0</td>\n",
       "      <td>11</td>\n",
       "      <td>4</td>\n",
       "    </tr>\n",
       "  </tbody>\n",
       "</table>\n",
       "</div>"
      ],
      "text/plain": [
       "Department           COPYWRITING  DATA  DESIGN  STRATEGY  WEB DEV\n",
       "Subscale                                                         \n",
       "Emotional Stability            1     2       0         1        0\n",
       "Extraversion                   1     0       0         2        0\n",
       "Conscientiousness              2     1       0        11        4"
      ]
     },
     "execution_count": 47,
     "metadata": {},
     "output_type": "execute_result"
    }
   ],
   "source": [
    "#A list of personality traits that will be used in the new df.\n",
    "nl = ['Emotional Stability',\n",
    "      'Extraversion',\n",
    "     'Conscientiousness',\n",
    "     'Openness to New Experiences',\n",
    "     'Agreeableness']\n",
    "\n",
    "\n",
    "#Creating an empty dataframe where I will pass the traits where applicants had low scores.\n",
    "xdf = pd.DataFrame()\n",
    "\n",
    "\n",
    "for i in nl:\n",
    "    x = pd.pivot_table(con_int,index=i + ' Interpretation',columns='Department',values='Extraversion',aggfunc='count', fill_value=0)\n",
    "    x['Subscale'] = i\n",
    "    xdf = pd.concat([xdf, x])    \n",
    "xdf.reset_index(inplace=True)\n",
    "xdf = xdf[xdf['index'] == 'low']\n",
    "xdf = xdf.drop('index',axis=1)\n",
    "xdf = xdf.set_index('Subscale')\n",
    "xdf"
   ]
  },
  {
   "cell_type": "markdown",
   "metadata": {},
   "source": [
    "#### The xdf dataframe shows the amount of applicants who scored low on any personality trait. This dataframe shows that for personality traits such as 'Agreeableness' and 'Openness to New Experiences' there were no low scoring applicants. The strategy department has the highest number of low scoring applicants while the design department has no low scoring applicants. The remaining departments have on average 4 low scoring applicants.    \n"
   ]
  }
 ],
 "metadata": {
  "kernelspec": {
   "display_name": "Python 2",
   "language": "python",
   "name": "python2"
  },
  "language_info": {
   "codemirror_mode": {
    "name": "ipython",
    "version": 2
   },
   "file_extension": ".py",
   "mimetype": "text/x-python",
   "name": "python",
   "nbconvert_exporter": "python",
   "pygments_lexer": "ipython2",
   "version": "2.7.16"
  }
 },
 "nbformat": 4,
 "nbformat_minor": 2
}
